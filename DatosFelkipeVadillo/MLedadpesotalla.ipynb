{
 "cells": [
  {
   "cell_type": "code",
   "execution_count": 5,
   "metadata": {},
   "outputs": [
    {
     "name": "stdout",
     "output_type": "stream",
     "text": [
      "Precisión del modelo: 0.88\n",
      "Reporte de clasificación:\n",
      "               precision    recall  f1-score   support\n",
      "\n",
      "           0       0.86      1.00      0.92        18\n",
      "           1       1.00      0.40      0.57         5\n",
      "           2       1.00      1.00      1.00         1\n",
      "\n",
      "    accuracy                           0.88        24\n",
      "   macro avg       0.95      0.80      0.83        24\n",
      "weighted avg       0.89      0.88      0.85        24\n",
      "\n",
      "Matriz de confusión:\n",
      " [[18  0  0]\n",
      " [ 3  2  0]\n",
      " [ 0  0  1]]\n"
     ]
    },
    {
     "name": "stderr",
     "output_type": "stream",
     "text": [
      "C:\\Users\\Emiliano\\AppData\\Local\\Temp\\ipykernel_17284\\983426855.py:15: FutureWarning: Downcasting behavior in `replace` is deprecated and will be removed in a future version. To retain the old behavior, explicitly call `result.infer_objects(copy=False)`. To opt-in to the future behavior, set `pd.set_option('future.no_silent_downcasting', True)`\n",
      "  df_filtered['desenlace_parto'] = df_filtered['desenlace_parto'].replace({\n"
     ]
    }
   ],
   "source": [
    "import pandas as pd  # Para manejar los datos en DataFrames\n",
    "from sklearn.model_selection import train_test_split  # Para dividir datos en entrenamiento/prueba\n",
    "from sklearn.preprocessing import StandardScaler  # Para normalizar los datos\n",
    "from sklearn.ensemble import RandomForestClassifier  # Modelo de clasificación\n",
    "from sklearn.metrics import accuracy_score, classification_report, confusion_matrix  # Métricas de evaluación\n",
    "\n",
    "file_path = r\"C:\\Users\\Emiliano\\Desktop\\SS python VSC\\DatosFelkipeVadillo\\Metadatos Eugenia V1.xlsx\"\n",
    "xls = pd.ExcelFile(file_path)  # Se lee el archivo de Excel\n",
    "df = pd.read_excel(xls, sheet_name='cohorte_princesa_corregidaDESC_')\n",
    "\n",
    "#  Filtrar solo los casos de interés: Term, Preterm, Postterm (excluyendo Abortion)\n",
    "df_filtered = df[df['desenlace_parto'].isin(['Term', 'Preterm', 'Postterm'])].copy()\n",
    "\n",
    "#  Reasignar etiquetas a la variable objetivo (conversión a números)\n",
    "df_filtered['desenlace_parto'] = df_filtered['desenlace_parto'].replace({\n",
    "    'Term': 0,      # 0 → Parto a término\n",
    "    'Preterm': 1,   # 1 → Parto pretérmino\n",
    "    'Postterm': 2   # 2 → Parto postérmino\n",
    "})\n",
    "\n",
    "#  Seleccionar solo características maternas: edad, peso pregestacional y talla\n",
    "columns_maternal = ['edad_cronologicamujer', 'peso_pregestacional_kg', 'talla_mujer_cm']\n",
    "df_maternal = df_filtered[columns_maternal + ['desenlace_parto']]\n",
    "\n",
    "#  Manejo de valores faltantes (rellenar con la media de cada columna)\n",
    "df_maternal = df_maternal.fillna(df_maternal.mean())\n",
    "\n",
    "#  Separar características (X) y la variable objetivo (y)\n",
    "X_maternal = df_maternal.drop(columns=['desenlace_parto'])  # Variables predictoras\n",
    "y_maternal = df_maternal['desenlace_parto']  # Variable objetivo (clase a predecir)\n",
    "\n",
    "#  Normalizar características para mejorar el rendimiento del modelo\n",
    "scaler = StandardScaler()\n",
    "X_maternal_scaled = scaler.fit_transform(X_maternal)  # Se escalan los datos\n",
    "\n",
    "#  Dividir los datos en conjunto de entrenamiento (80%) y prueba (20%)\n",
    "X_train_m, X_test_m, y_train_m, y_test_m = train_test_split(\n",
    "    X_maternal_scaled, y_maternal, test_size=0.2, random_state=42, stratify=y_maternal\n",
    ")\n",
    "\n",
    "# 📌 Entrenar un modelo Random Forest con balanceo de clases\n",
    "model_maternal = RandomForestClassifier(n_estimators=100, random_state=42, class_weight=\"balanced\")\n",
    "model_maternal.fit(X_train_m, y_train_m)  # Se entrena el modelo con los datos de entrenamiento\n",
    "\n",
    "#  Realizar predicciones en el conjunto de prueba\n",
    "y_pred_maternal = model_maternal.predict(X_test_m)\n",
    "\n",
    "#  Evaluar el modelo con métricas de desempeño\n",
    "accuracy_maternal = accuracy_score(y_test_m, y_pred_maternal)  # Precisión del modelo\n",
    "classification_rep_maternal = classification_report(y_test_m, y_pred_maternal)  # Reporte de clasificación\n",
    "conf_matrix_maternal = confusion_matrix(y_test_m, y_pred_maternal)  # Matriz de confusión\n",
    "\n",
    "#  Mostrar resultados\n",
    "print(f\"Precisión del modelo: {accuracy_maternal:.2f}\")  # Se imprime la precisión del modelo\n",
    "print(\"Reporte de clasificación:\\n\", classification_rep_maternal)  # Se imprime el reporte detallado\n",
    "print(\"Matriz de confusión:\\n\", conf_matrix_maternal)  # Se imprime la matriz de confusión\n",
    "\n"
   ]
  },
  {
   "cell_type": "markdown",
   "metadata": {},
   "source": [
    "Indica que el modelo tiene un 88% de precisión en el conjunto de prueba.\n",
    "2. Reporte de clasificación\n",
    "Contiene las métricas clave para cada clase (Term, Preterm, Postterm):\n",
    "Precision: Qué porcentaje de las predicciones de cada clase fueron correctas.\n",
    "Recall: Qué porcentaje de los casos reales de cada clase fueron correctamente identificados.\n",
    "F1-score: Combinación de Precision y Recall.\n",
    "Support: Cantidad de casos en cada clase.\n",
    "3. Matriz de confusión\n",
    "Muestra cómo se distribuyen las predicciones entre las clases reales.\n",
    "Por ejemplo, [[47 2 1] significa que:\n",
    "47 casos de \"Term\" fueron correctamente clasificados como \"Term\".\n",
    "2 casos de \"Term\" fueron mal clasificados como \"Preterm\".\n",
    "1 caso de \"Term\" fue mal clasificado como \"Postterm\"."
   ]
  }
 ],
 "metadata": {
  "kernelspec": {
   "display_name": "myenv",
   "language": "python",
   "name": "python3"
  },
  "language_info": {
   "codemirror_mode": {
    "name": "ipython",
    "version": 3
   },
   "file_extension": ".py",
   "mimetype": "text/x-python",
   "name": "python",
   "nbconvert_exporter": "python",
   "pygments_lexer": "ipython3",
   "version": "3.12.6"
  }
 },
 "nbformat": 4,
 "nbformat_minor": 2
}
