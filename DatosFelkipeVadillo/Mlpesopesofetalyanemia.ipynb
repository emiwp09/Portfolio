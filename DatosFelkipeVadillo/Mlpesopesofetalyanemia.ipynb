{
 "cells": [
  {
   "cell_type": "code",
   "execution_count": 2,
   "metadata": {},
   "outputs": [
    {
     "name": "stderr",
     "output_type": "stream",
     "text": [
      "C:\\Users\\Emiliano\\AppData\\Local\\Temp\\ipykernel_19740\\3767869952.py:16: FutureWarning: Downcasting behavior in `replace` is deprecated and will be removed in a future version. To retain the old behavior, explicitly call `result.infer_objects(copy=False)`. To opt-in to the future behavior, set `pd.set_option('future.no_silent_downcasting', True)`\n",
      "  df_filtered['desenlace_parto'] = df_filtered['desenlace_parto'].replace({\n",
      "c:\\Users\\Emiliano\\Desktop\\SS python VSC\\myenv\\Lib\\site-packages\\sklearn\\metrics\\_classification.py:1531: UndefinedMetricWarning: Precision is ill-defined and being set to 0.0 in labels with no predicted samples. Use `zero_division` parameter to control this behavior.\n",
      "  _warn_prf(average, modifier, f\"{metric.capitalize()} is\", len(result))\n",
      "c:\\Users\\Emiliano\\Desktop\\SS python VSC\\myenv\\Lib\\site-packages\\sklearn\\metrics\\_classification.py:1531: UndefinedMetricWarning: Precision is ill-defined and being set to 0.0 in labels with no predicted samples. Use `zero_division` parameter to control this behavior.\n",
      "  _warn_prf(average, modifier, f\"{metric.capitalize()} is\", len(result))\n",
      "c:\\Users\\Emiliano\\Desktop\\SS python VSC\\myenv\\Lib\\site-packages\\sklearn\\metrics\\_classification.py:1531: UndefinedMetricWarning: Precision is ill-defined and being set to 0.0 in labels with no predicted samples. Use `zero_division` parameter to control this behavior.\n",
      "  _warn_prf(average, modifier, f\"{metric.capitalize()} is\", len(result))\n"
     ]
    },
    {
     "data": {
      "text/plain": [
       "(0.6666666666666666,\n",
       " '              precision    recall  f1-score   support\\n\\n           0       0.75      0.83      0.79        18\\n           1       0.25      0.20      0.22         5\\n           2       0.00      0.00      0.00         1\\n\\n    accuracy                           0.67        24\\n   macro avg       0.33      0.34      0.34        24\\nweighted avg       0.61      0.67      0.64        24\\n',\n",
       " array([[15,  3,  0],\n",
       "        [ 4,  1,  0],\n",
       "        [ 1,  0,  0]]))"
      ]
     },
     "execution_count": 2,
     "metadata": {},
     "output_type": "execute_result"
    }
   ],
   "source": [
    "# Re-cargar librerías necesarias después del reinicio del estado\n",
    "import pandas as pd\n",
    "from sklearn.model_selection import train_test_split\n",
    "from sklearn.preprocessing import StandardScaler\n",
    "from sklearn.ensemble import RandomForestClassifier\n",
    "from sklearn.metrics import accuracy_score, classification_report, confusion_matrix\n",
    "\n",
    "file_path = r\"C:\\Users\\Emiliano\\Desktop\\SS python VSC\\DatosFelkipeVadillo\\Metadatos Eugenia V1.xlsx\"\n",
    "xls = pd.ExcelFile(file_path)  # Lee el archivo Excel\n",
    "df = pd.read_excel(xls, sheet_name='cohorte_princesa_corregidaDESC_')\n",
    "\n",
    "# Filtrar solo los casos de interés: Term, Preterm, Postterm (excluyendo Abortion)\n",
    "df_filtered = df[df['desenlace_parto'].isin(['Term', 'Preterm', 'Postterm'])].copy()\n",
    "\n",
    "# Reasignar etiquetas a la variable objetivo\n",
    "df_filtered['desenlace_parto'] = df_filtered['desenlace_parto'].replace({\n",
    "    'Term': 0,      # A término\n",
    "    'Preterm': 1,   # Pretérmino\n",
    "    'Postterm': 2   # Postérmino\n",
    "})\n",
    "\n",
    "# Seleccionar características: Peso materno, peso fetal estimado y anemia materna\n",
    "columns_selected = ['peso_pregestacional_kg', 'pfetal', 'anemia_visita']\n",
    "df_selected = df_filtered[columns_selected + ['desenlace_parto']]\n",
    "\n",
    "# Manejo de valores faltantes (rellenar con la media)\n",
    "df_selected = df_selected.fillna(df_selected.mean())\n",
    "\n",
    "# Separar características y variable objetivo\n",
    "X_selected = df_selected.drop(columns=['desenlace_parto'])\n",
    "y_selected = df_selected['desenlace_parto']\n",
    "\n",
    "# Normalizar características\n",
    "scaler = StandardScaler()\n",
    "X_selected_scaled = scaler.fit_transform(X_selected)\n",
    "\n",
    "# Dividir en conjuntos de entrenamiento y prueba sin SMOTE\n",
    "X_train_s, X_test_s, y_train_s, y_test_s = train_test_split(\n",
    "    X_selected_scaled, y_selected, test_size=0.2, random_state=42, stratify=y_selected\n",
    ")\n",
    "\n",
    "# Entrenar el modelo con los datos originales sin balanceo\n",
    "model_selected = RandomForestClassifier(n_estimators=100, random_state=42, class_weight=\"balanced\")\n",
    "model_selected.fit(X_train_s, y_train_s)\n",
    "\n",
    "# Realizar predicciones en el conjunto de prueba\n",
    "y_pred_selected = model_selected.predict(X_test_s)\n",
    "\n",
    "# Evaluar el modelo\n",
    "accuracy_selected = accuracy_score(y_test_s, y_pred_selected)\n",
    "classification_rep_selected = classification_report(y_test_s, y_pred_selected)\n",
    "conf_matrix_selected = confusion_matrix(y_test_s, y_pred_selected)\n",
    "\n",
    "# Mostrar los resultados\n",
    "accuracy_selected, classification_rep_selected, conf_matrix_selected\n"
   ]
  }
 ],
 "metadata": {
  "kernelspec": {
   "display_name": "myenv",
   "language": "python",
   "name": "python3"
  },
  "language_info": {
   "codemirror_mode": {
    "name": "ipython",
    "version": 3
   },
   "file_extension": ".py",
   "mimetype": "text/x-python",
   "name": "python",
   "nbconvert_exporter": "python",
   "pygments_lexer": "ipython3",
   "version": "3.12.6"
  }
 },
 "nbformat": 4,
 "nbformat_minor": 2
}
