{
 "cells": [
  {
   "cell_type": "code",
   "execution_count": 7,
   "metadata": {},
   "outputs": [
    {
     "name": "stdout",
     "output_type": "stream",
     "text": [
      "Precisión del modelo con SMOTE: 0.88\n",
      "Reporte de clasificación:\n",
      "               precision    recall  f1-score   support\n",
      "\n",
      "           0       0.86      1.00      0.92        18\n",
      "           1       1.00      0.40      0.57         5\n",
      "           2       1.00      1.00      1.00         1\n",
      "\n",
      "    accuracy                           0.88        24\n",
      "   macro avg       0.95      0.80      0.83        24\n",
      "weighted avg       0.89      0.88      0.85        24\n",
      "\n",
      "Matriz de confusión:\n",
      " [[18  0  0]\n",
      " [ 3  2  0]\n",
      " [ 0  0  1]]\n"
     ]
    },
    {
     "name": "stderr",
     "output_type": "stream",
     "text": [
      "C:\\Users\\Emiliano\\AppData\\Local\\Temp\\ipykernel_17580\\2360491043.py:17: FutureWarning: Downcasting behavior in `replace` is deprecated and will be removed in a future version. To retain the old behavior, explicitly call `result.infer_objects(copy=False)`. To opt-in to the future behavior, set `pd.set_option('future.no_silent_downcasting', True)`\n",
      "  df_filtered['desenlace_parto'] = df_filtered['desenlace_parto'].replace({\n"
     ]
    }
   ],
   "source": [
    "import pandas as pd  # Para manejar los datos en DataFrames\n",
    "from sklearn.model_selection import train_test_split  # Para dividir datos en entrenamiento/prueba\n",
    "from sklearn.preprocessing import StandardScaler  # Para normalizar los datos\n",
    "from sklearn.ensemble import RandomForestClassifier  # Modelo de clasificación\n",
    "from sklearn.metrics import accuracy_score, classification_report, confusion_matrix  # Métricas de evaluación\n",
    "from imblearn.over_sampling import SMOTE  # Para balancear las clases con datos sintéticos\n",
    "\n",
    "\n",
    "file_path = r\"C:\\Users\\Emiliano\\Desktop\\SS python VSC\\DatosFelkipeVadillo\\Metadatos Eugenia V1.xlsx\"\n",
    "xls = pd.ExcelFile(file_path)  # Lee el archivo Excel\n",
    "df = pd.read_excel(xls, sheet_name='cohorte_princesa_corregidaDESC_')\n",
    "\n",
    "#  Filtrar solo los casos de interés: Term, Preterm, Postterm (excluyendo Abortion)\n",
    "df_filtered = df[df['desenlace_parto'].isin(['Term', 'Preterm', 'Postterm'])].copy()\n",
    "\n",
    "# Reasignar etiquetas a la variable objetivo (conversión a números)\n",
    "df_filtered['desenlace_parto'] = df_filtered['desenlace_parto'].replace({\n",
    "    'Term': 0,      # 0 → Parto a término\n",
    "    'Preterm': 1,   # 1 → Parto pretérmino\n",
    "    'Postterm': 2   # 2 → Parto postérmino\n",
    "})\n",
    "\n",
    "# Seleccionar solo características maternas: edad, peso pregestacional y talla\n",
    "columns_maternal = ['edad_cronologicamujer', 'peso_pregestacional_kg', 'talla_mujer_cm']\n",
    "df_maternal = df_filtered[columns_maternal + ['desenlace_parto']]\n",
    "\n",
    "# Manejo de valores faltantes (rellenar con la media de cada columna)\n",
    "df_maternal = df_maternal.fillna(df_maternal.mean())\n",
    "\n",
    "# Separar características (X) y la variable objetivo (y)\n",
    "X_maternal = df_maternal.drop(columns=['desenlace_parto'])  # Variables predictoras\n",
    "y_maternal = df_maternal['desenlace_parto']  # Variable objetivo (clase a predecir)\n",
    "\n",
    "# Normalizar características para mejorar el rendimiento del modelo\n",
    "scaler = StandardScaler()\n",
    "X_maternal_scaled = scaler.fit_transform(X_maternal)  # Se escalan los datos\n",
    "\n",
    "# Dividir los datos en conjunto de entrenamiento (80%) y prueba (20%)\n",
    "X_train_m, X_test_m, y_train_m, y_test_m = train_test_split(\n",
    "    X_maternal_scaled, y_maternal, test_size=0.2, random_state=42, stratify=y_maternal\n",
    ")\n",
    "\n",
    "# Aplicar SMOTE para balancear las clases en el conjunto de entrenamiento\n",
    "smote = SMOTE(sampling_strategy='auto', random_state=42, k_neighbors=1)  # Genera datos sintéticos\n",
    "X_train_m_balanced, y_train_m_balanced = smote.fit_resample(X_train_m, y_train_m)\n",
    "\n",
    "# Entrenar el modelo Random Forest con los datos balanceados\n",
    "model_maternal_smote = RandomForestClassifier(n_estimators=100, random_state=42, class_weight=\"balanced\")\n",
    "model_maternal_smote.fit(X_train_m_balanced, y_train_m_balanced)  # Se entrena el modelo\n",
    "\n",
    "# Realizar predicciones en el conjunto de prueba\n",
    "y_pred_maternal_smote = model_maternal_smote.predict(X_test_m)\n",
    "\n",
    "accuracy_maternal_smote = accuracy_score(y_test_m, y_pred_maternal_smote)  # Precisión del modelo\n",
    "classification_rep_maternal_smote = classification_report(y_test_m, y_pred_maternal_smote)  # Reporte de clasificación\n",
    "conf_matrix_maternal_smote = confusion_matrix(y_test_m, y_pred_maternal_smote)  # Matriz de confusión\n",
    "\n",
    "print(f\"Precisión del modelo con SMOTE: {accuracy_maternal_smote:.2f}\")  # Se imprime la precisión del modelo\n",
    "print(\"Reporte de clasificación:\\n\", classification_rep_maternal_smote)  # Se imprime el reporte detallado\n",
    "print(\"Matriz de confusión:\\n\", conf_matrix_maternal_smote)  # Se imprime la matriz de confusión\n",
    "\n"
   ]
  },
  {
   "cell_type": "markdown",
   "metadata": {},
   "source": [
    "Precisión del modelo (0.85 en este caso)\n",
    "\n",
    "Indica que el modelo tiene un 88% de precisión en el conjunto de prueba.\n",
    "Reporte de clasificación\n",
    "\n",
    "Contiene las métricas clave para cada clase (Term, Preterm, Postterm):\n",
    "Precision: Cuántas predicciones positivas fueron realmente correctas.\n",
    "Recall: Cuántos casos de cada clase fueron correctamente identificados.\n",
    "F1-score: Combinación de Precision y Recall.\n",
    "Support: Cantidad de casos en cada clase.\n",
    "Matriz de confusión\n",
    "\n",
    "Muestra cómo se distribuyen las predicciones entre las clases reales.\n",
    "Por ejemplo, [[46 2 2] significa que:\n",
    "46 casos de \"Term\" fueron correctamente clasificados como \"Term\".\n",
    "2 casos de \"Term\" fueron mal clasificados como \"Preterm\".\n",
    "2 casos de \"Term\" fueron mal clasificados como \"Postterm\"."
   ]
  },
  {
   "cell_type": "markdown",
   "metadata": {},
   "source": []
  }
 ],
 "metadata": {
  "kernelspec": {
   "display_name": "myenv",
   "language": "python",
   "name": "python3"
  },
  "language_info": {
   "codemirror_mode": {
    "name": "ipython",
    "version": 3
   },
   "file_extension": ".py",
   "mimetype": "text/x-python",
   "name": "python",
   "nbconvert_exporter": "python",
   "pygments_lexer": "ipython3",
   "version": "3.12.6"
  }
 },
 "nbformat": 4,
 "nbformat_minor": 2
}
