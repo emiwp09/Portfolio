{
 "cells": [
  {
   "cell_type": "code",
   "execution_count": 3,
   "metadata": {},
   "outputs": [
    {
     "ename": "ModuleNotFoundError",
     "evalue": "No module named 'seaborn'",
     "output_type": "error",
     "traceback": [
      "\u001b[1;31m---------------------------------------------------------------------------\u001b[0m",
      "\u001b[1;31mModuleNotFoundError\u001b[0m                       Traceback (most recent call last)",
      "Cell \u001b[1;32mIn[3], line 3\u001b[0m\n\u001b[0;32m      1\u001b[0m \u001b[38;5;28;01mimport\u001b[39;00m \u001b[38;5;21;01mpandas\u001b[39;00m \u001b[38;5;28;01mas\u001b[39;00m \u001b[38;5;21;01mpd\u001b[39;00m\n\u001b[0;32m      2\u001b[0m \u001b[38;5;28;01mimport\u001b[39;00m \u001b[38;5;21;01mmatplotlib\u001b[39;00m\u001b[38;5;21;01m.\u001b[39;00m\u001b[38;5;21;01mpyplot\u001b[39;00m \u001b[38;5;28;01mas\u001b[39;00m \u001b[38;5;21;01mplt\u001b[39;00m\n\u001b[1;32m----> 3\u001b[0m \u001b[38;5;28;01mimport\u001b[39;00m \u001b[38;5;21;01mseaborn\u001b[39;00m \u001b[38;5;28;01mas\u001b[39;00m \u001b[38;5;21;01msns\u001b[39;00m\n\u001b[0;32m      5\u001b[0m \u001b[38;5;66;03m# Cargar el archivo TOP10bacteriesmostcommun.csv\u001b[39;00m\n\u001b[0;32m      6\u001b[0m top10_bacteria_file_path \u001b[38;5;241m=\u001b[39m \u001b[38;5;124mr\u001b[39m\u001b[38;5;124m'\u001b[39m\u001b[38;5;124mC:\u001b[39m\u001b[38;5;124m\\\u001b[39m\u001b[38;5;124mUsers\u001b[39m\u001b[38;5;124m\\\u001b[39m\u001b[38;5;124mEmiliano\u001b[39m\u001b[38;5;124m\\\u001b[39m\u001b[38;5;124mDesktop\u001b[39m\u001b[38;5;124m\\\u001b[39m\u001b[38;5;124mSS python VSC\u001b[39m\u001b[38;5;124m\\\u001b[39m\u001b[38;5;124mTOP10bacteriesmostcommun.csv\u001b[39m\u001b[38;5;124m'\u001b[39m\n",
      "\u001b[1;31mModuleNotFoundError\u001b[0m: No module named 'seaborn'"
     ]
    }
   ],
   "source": [
    "import pandas as pd\n",
    "import matplotlib.pyplot as plt\n",
    "import seaborn as sns\n",
    "\n",
    "# Cargar el archivo TOP10bacteriesmostcommun.csv\n",
    "top10_bacteria_file_path = r'C:\\Users\\Emiliano\\Desktop\\SS python VSC\\TOP10bacteriesmostcommun.csv'\n",
    "\n",
    "# Leer el archivo CSV en un DataFrame\n",
    "top10_bacteria_df = pd.read_csv(top10_bacteria_file_path)\n",
    "\n",
    "# Eliminar el símbolo de porcentaje y forzar la conversión a tipo numérico\n",
    "for column in top10_bacteria_df.columns[1:]:\n",
    "    top10_bacteria_df[column] = pd.to_numeric(top10_bacteria_df[column].replace('%', '', regex=True), errors='coerce')\n",
    "\n",
    "# Colocar los nombres de las bacterias como índice para que aparezcan en el gráfico\n",
    "top10_bacteria_df.set_index('Unnamed: 0', inplace=True)\n",
    "\n",
    "# Crear el mapa de calor con los nombres de las bacterias\n",
    "plt.figure(figsize=(10, 8))\n",
    "sns.heatmap(top10_bacteria_df, annot=True, cmap=\"YlGnBu\", cbar_kws={'label': 'Porcentaje (%)'})\n",
    "\n",
    "# Etiquetas y título\n",
    "plt.title(\"Mapa de Calor: TOP 10 Bacterias más Comunes por Categoría Racial\")\n",
    "plt.ylabel(\"Bacterias\")\n",
    "plt.xlabel(\"Categorías Raciales\")\n",
    "plt.xticks(rotation=45, ha='right')\n",
    "plt.yticks(rotation=0)\n",
    "\n",
    "# Mostrar el gráfico\n",
    "plt.show()\n"
   ]
  }
 ],
 "metadata": {
  "kernelspec": {
   "display_name": "myenv",
   "language": "python",
   "name": "python3"
  },
  "language_info": {
   "codemirror_mode": {
    "name": "ipython",
    "version": 3
   },
   "file_extension": ".py",
   "mimetype": "text/x-python",
   "name": "python",
   "nbconvert_exporter": "python",
   "pygments_lexer": "ipython3",
   "version": "3.12.6"
  }
 },
 "nbformat": 4,
 "nbformat_minor": 2
}
